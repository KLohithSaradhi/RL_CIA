{
 "cells": [
  {
   "cell_type": "code",
   "execution_count": 1,
   "metadata": {},
   "outputs": [],
   "source": [
    "import numpy as np\n",
    "import matplotlib.pyplot as plt\n",
    "from tqdm import tqdm\n",
    "\n",
    "###################################\n",
    "# First policy:\n",
    "#           DOWN = 0\n",
    "#           RIGHT = 1\n",
    "#           UP = 2\n",
    "#           LEFT = 3\n",
    "# Second Policy\n",
    "#           DownRight = 0\n",
    "#           UpRight = 1\n",
    "#           UpLeft = 2\n",
    "#           DownLeft = 3\n",
    "###################################\n",
    "POLICIES = [[(1, 0), (0, 1), (-1, 0), (0, -1)], \n",
    "            [(1, 1), (-1, 1), (-1, -1), (1, -1)]]\n",
    "\n",
    "OBSTACLE = 1\n",
    "OBSTACLE_REWARD = -10\n",
    "END_REWARD = 100\n",
    "DUMMY = 0.1\n",
    "E_POWER_SCALING = 0.0001"
   ]
  },
  {
   "cell_type": "code",
   "execution_count": 2,
   "metadata": {},
   "outputs": [],
   "source": [
    "def sample(dist):\n",
    "    wheel = np.cumsum(dist)\n",
    "    return np.argwhere(np.random.random() < wheel)[0][0]"
   ]
  },
  {
   "cell_type": "code",
   "execution_count": 3,
   "metadata": {},
   "outputs": [
    {
     "data": {
      "text/plain": [
       "<matplotlib.image.AxesImage at 0x10e020f40>"
      ]
     },
     "execution_count": 3,
     "metadata": {},
     "output_type": "execute_result"
    },
    {
     "data": {
      "image/png": "[encoded data removed]",
      "text/plain": [
       "<Figure size 640x480 with 2 Axes>"
      ]
     },
     "metadata": {},
     "output_type": "display_data"
    }
   ],
   "source": [
    "class Grid:\n",
    "    def __init__(self, size, density, seed = 1234):\n",
    "        self.size = size\n",
    "        self.GRID = np.zeros((size, size))\n",
    "\n",
    "        self.START = (0,0)\n",
    "        self.END = (size-1, size-1)\n",
    "\n",
    "        self.density = density\n",
    "        self.seed = seed\n",
    "\n",
    "    def check_collision(self, state):\n",
    "        if state[0] < 0 or state[0] >= self.size or state[1] < 0  or state[1] >= self.size:\n",
    "            return False\n",
    "        elif self.GRID[state[0]][state[1]] == OBSTACLE:\n",
    "            return False\n",
    "        return True\n",
    "    \n",
    "    def generate_obstacles(self):\n",
    "\n",
    "        np.random.seed(self.seed)\n",
    "        RANDOM_MATRIX = np.random.random((self.size, self.size))\n",
    "\n",
    "        for i in range(self.size):\n",
    "            for j in range(self.size):\n",
    "                if (i,j) == self.START or (i,j) == self.END:\n",
    "                    continue\n",
    "                if RANDOM_MATRIX[i][j] <= self.density:\n",
    "                    self.GRID[i][j] = OBSTACLE\n",
    "\n",
    "    \n",
    "    def reward(self, state):\n",
    "        if state == self.END:\n",
    "            return END_REWARD\n",
    "        else:\n",
    "            if self.check_collision(state):\n",
    "                #return - np.sqrt(((state[0] - self.END[0])**2 + (state[1] - self.END[1])**2)/ (self.END[0]**2 + self.END[1]**2)) * 5\n",
    "                return -1\n",
    "                #return 0\n",
    "            else:\n",
    "                return OBSTACLE_REWARD\n",
    "            \n",
    "    def display(self):\n",
    "        plt.imshow(1-self.GRID, cmap=\"gray\")\n",
    "            \n",
    "# REWARD DISPLAY\n",
    "temp_env = Grid(10, 0.1, 12345)\n",
    "temp_env.generate_obstacles()\n",
    "reward_grid = np.array([[temp_env.reward((i,j)) for j in range(temp_env.size)] for i in range(temp_env.size)])\n",
    "\n",
    "plt.subplot(1,2,1)\n",
    "temp_env.display()\n",
    "\n",
    "plt.subplot(1,2,2)\n",
    "plt.imshow(reward_grid / 5, cmap=\"gray\")"
   ]
  },
  {
   "cell_type": "code",
   "execution_count": null,
   "metadata": {},
   "outputs": [],
   "source": [
    "class Policy:\n",
    "    def __init__(self, env, gamma, ACTIONS):\n",
    "        self.env = env\n",
    "        self.num_states = self.env.size * self.env.size\n",
    "        self.gamma = gamma\n",
    "        self.ACTIONS = ACTIONS\n",
    "        self.num_actions = len(self.ACTIONS)\n",
    "        \n",
    "        # q_pi and v_pi\n",
    "        self.q_pi = np.ones((self.num_states, self.num_actions)).astype(np.float32)\n",
    "        self.v_pi = np.full((self.num_states), DUMMY).astype(np.float32)\n",
    "        self.q_pi_prob = self.q_pi / np.sum(self.q_pi, axis = 1).reshape((-1,1))\n",
    "\n",
    "\n",
    "    def update_probs(self):\n",
    "        # self.q_pi_prob = (self.q_pi - np.min(self.q_pi)) / (np.max(self.q_pi, axis = 1) - np.min(self.q_pi, axis = 1))\n",
    "        self.q_pi_prob = np.exp(E_POWER_SCALING * self.q_pi) / np.sum(np.exp(E_POWER_SCALING * self.q_pi), axis = 1).reshape(-1,1)\n",
    "\n",
    "\n",
    "class Agent:\n",
    "    \n",
    "    def __init__(self, env, POLICIES, gamma = 0.8, exploitation_threshold = 0.3):\n",
    "        self.env = env\n",
    "        self.POLICIES = [Policy(self.env, gamma, p) for p in POLICIES]\n",
    "        self.gamma = gamma\n",
    "        self.exploitation_threshold = exploitation_threshold\n",
    "\n",
    "    def run_episode(self, state):\n",
    "\n",
    "        #print(state, end = \"===>\")\n",
    "        # end condition of recursion\n",
    "        # if self.env.GRID[state[0]][state[1]] == OBSTACLE or state == self.env.END:\n",
    "        #     return self.env.reward(state)\n",
    "        \n",
    "        # default run\n",
    "        \n",
    "        #PICK POLICY\n",
    "        state_index = state[0] * self.env.size + state[1]\n",
    "        state_values = [p.v_pi[state_index] for p in self.POLICIES]\n",
    "        state_values = np.array(state_values)\n",
    "        # state_values = (state_values - np.min(state_values)) / (np.max(state_values) - np.min(state_values + 1e-7))\n",
    "        state_values = np.exp(E_POWER_SCALING * state_values) / np.sum(np.exp(E_POWER_SCALING * state_values))\n",
    "\n",
    "        if np.random.random() < self.exploitation_threshold:\n",
    "            policy_index = np.argmax(state_values)\n",
    "            policy = self.POLICIES[policy_index]\n",
    "            action_index = np.argmax(policy.q_pi_prob[state_index])\n",
    "        else:\n",
    "            policy_index = sample(state_values)\n",
    "            policy = self.POLICIES[policy_index]\n",
    "            action_index = sample(policy.q_pi_prob[state_index])\n",
    "\n",
    "        \n",
    "\n",
    "\n",
    "        # perform action\n",
    "        next_state = (state[0] + policy.ACTIONS[action_index][0], state[1] + policy.ACTIONS[action_index][1])\n",
    "        next_state_index = next_state[0] * self.env.size + next_state[1]\n",
    "        #print(next_state)\n",
    "        next_reward = self.env.reward(next_state)\n",
    "\n",
    "        if next_reward == OBSTACLE_REWARD or next_reward == END_REWARD:\n",
    "            #print(\"here\")\n",
    "            G_t = next_reward\n",
    "        else:\n",
    "            G_t = (next_reward + self.gamma * self.run_episode(next_state))\n",
    "\n",
    "        #print(policy.q_pi[state_index], state)\n",
    "        policy.v_pi[state_index] = policy.q_pi_prob[state_index][action_index] * G_t\n",
    "        policy.q_pi[state_index][action_index] = G_t\n",
    "        #print(policy.q_pi[state_index], state)\n",
    "\n",
    "        return G_t \n",
    "    \n",
    "    def infer(self, state):\n",
    "\n",
    "        print(state, end = \"===>\")\n",
    "\n",
    "        # end condition of recursion\n",
    "        if self.env.GRID[state[0]][state[1]] == OBSTACLE or state == self.env.END:\n",
    "            return self.env.reward(state)\n",
    "        \n",
    "        # default run\n",
    "        \n",
    "        #PICK POLICY\n",
    "        state_index = state[0] * self.env.size + state[1]\n",
    "        state_values = [p.v_pi[state_index] for p in self.POLICIES]\n",
    "        state_values = np.array(state_values) / np.sum(state_values)\n",
    "\n",
    "        policy_index = np.argmax(state_values)\n",
    "        policy = self.POLICIES[policy_index]\n",
    "\n",
    "        #picking action\n",
    "        action_index = np.argmax(policy.q_pi_prob[state_index])\n",
    "\n",
    "        # perform action\n",
    "        next_state = (state[0] + policy.ACTIONS[action_index][0], state[1] + policy.ACTIONS[action_index][1])\n",
    "        next_state_index = next_state[0] * self.env.size + next_state[1]\n",
    "        print(next_state)\n",
    "        G_t = self.env.reward(next_state) + self.gamma * self.infer(next_state)\n",
    "\n",
    "        # policy.v_pi[state_index] = G_t\n",
    "        # policy.q_pi[state_index][action_index] = G_t\n",
    "\n",
    "        return G_t "
   ]
  },
  {
   "cell_type": "code",
   "execution_count": 5,
   "metadata": {},
   "outputs": [],
   "source": [
    "dummy_agent = Agent(temp_env, POLICIES)"
   ]
  },
  {
   "cell_type": "code",
   "execution_count": 8,
   "metadata": {},
   "outputs": [
    {
     "name": "stderr",
     "output_type": "stream",
     "text": [
      "  0%|          | 9574/10000000 [00:03<53:22, 3119.85it/s]  \n"
     ]
    },
    {
     "ename": "RecursionError",
     "evalue": "maximum recursion depth exceeded",
     "output_type": "error",
     "traceback": [
      "\u001b[0;31m---------------------------------------------------------------------------\u001b[0m",
      "\u001b[0;31mRecursionError\u001b[0m                            Traceback (most recent call last)",
      "Cell \u001b[0;32mIn[8], line 3\u001b[0m\n\u001b[1;32m      1\u001b[0m \u001b[38;5;28;01mfor\u001b[39;00m _ \u001b[38;5;129;01min\u001b[39;00m tqdm(\u001b[38;5;28mrange\u001b[39m(\u001b[38;5;241m10000000\u001b[39m)):\n\u001b[1;32m      2\u001b[0m     \u001b[38;5;66;03m#print(\"_______EPISODE________\")\u001b[39;00m\n\u001b[0;32m----> 3\u001b[0m     run_reward \u001b[38;5;241m=\u001b[39m \u001b[43mdummy_agent\u001b[49m\u001b[38;5;241;43m.\u001b[39;49m\u001b[43mrun_episode\u001b[49m\u001b[43m(\u001b[49m\u001b[43mtemp_env\u001b[49m\u001b[38;5;241;43m.\u001b[39;49m\u001b[43mSTART\u001b[49m\u001b[43m)\u001b[49m\n\u001b[1;32m      4\u001b[0m     dummy_agent\u001b[38;5;241m.\u001b[39mPOLICIES[\u001b[38;5;241m0\u001b[39m]\u001b[38;5;241m.\u001b[39mupdate_probs()\n\u001b[1;32m      5\u001b[0m     dummy_agent\u001b[38;5;241m.\u001b[39mPOLICIES[\u001b[38;5;241m1\u001b[39m]\u001b[38;5;241m.\u001b[39mupdate_probs()\n",
      "Cell \u001b[0;32mIn[4], line 66\u001b[0m, in \u001b[0;36mAgent.run_episode\u001b[0;34m(self, state)\u001b[0m\n\u001b[1;32m     64\u001b[0m     G_t \u001b[38;5;241m=\u001b[39m next_reward\n\u001b[1;32m     65\u001b[0m \u001b[38;5;28;01melse\u001b[39;00m:\n\u001b[0;32m---> 66\u001b[0m     G_t \u001b[38;5;241m=\u001b[39m (next_reward \u001b[38;5;241m+\u001b[39m \u001b[38;5;28mself\u001b[39m\u001b[38;5;241m.\u001b[39mgamma \u001b[38;5;241m*\u001b[39m \u001b[38;5;28;43mself\u001b[39;49m\u001b[38;5;241;43m.\u001b[39;49m\u001b[43mrun_episode\u001b[49m\u001b[43m(\u001b[49m\u001b[43mnext_state\u001b[49m\u001b[43m)\u001b[49m)\n\u001b[1;32m     68\u001b[0m \u001b[38;5;66;03m#print(policy.q_pi[state_index], state)\u001b[39;00m\n\u001b[1;32m     69\u001b[0m policy\u001b[38;5;241m.\u001b[39mv_pi[state_index] \u001b[38;5;241m=\u001b[39m policy\u001b[38;5;241m.\u001b[39mq_pi_prob[state_index][action_index] \u001b[38;5;241m*\u001b[39m G_t\n",
      "Cell \u001b[0;32mIn[4], line 66\u001b[0m, in \u001b[0;36mAgent.run_episode\u001b[0;34m(self, state)\u001b[0m\n\u001b[1;32m     64\u001b[0m     G_t \u001b[38;5;241m=\u001b[39m next_reward\n\u001b[1;32m     65\u001b[0m \u001b[38;5;28;01melse\u001b[39;00m:\n\u001b[0;32m---> 66\u001b[0m     G_t \u001b[38;5;241m=\u001b[39m (next_reward \u001b[38;5;241m+\u001b[39m \u001b[38;5;28mself\u001b[39m\u001b[38;5;241m.\u001b[39mgamma \u001b[38;5;241m*\u001b[39m \u001b[38;5;28;43mself\u001b[39;49m\u001b[38;5;241;43m.\u001b[39;49m\u001b[43mrun_episode\u001b[49m\u001b[43m(\u001b[49m\u001b[43mnext_state\u001b[49m\u001b[43m)\u001b[49m)\n\u001b[1;32m     68\u001b[0m \u001b[38;5;66;03m#print(policy.q_pi[state_index], state)\u001b[39;00m\n\u001b[1;32m     69\u001b[0m policy\u001b[38;5;241m.\u001b[39mv_pi[state_index] \u001b[38;5;241m=\u001b[39m policy\u001b[38;5;241m.\u001b[39mq_pi_prob[state_index][action_index] \u001b[38;5;241m*\u001b[39m G_t\n",
      "    \u001b[0;31m[... skipping similar frames: Agent.run_episode at line 66 (2960 times)]\u001b[0m\n",
      "Cell \u001b[0;32mIn[4], line 66\u001b[0m, in \u001b[0;36mAgent.run_episode\u001b[0;34m(self, state)\u001b[0m\n\u001b[1;32m     64\u001b[0m     G_t \u001b[38;5;241m=\u001b[39m next_reward\n\u001b[1;32m     65\u001b[0m \u001b[38;5;28;01melse\u001b[39;00m:\n\u001b[0;32m---> 66\u001b[0m     G_t \u001b[38;5;241m=\u001b[39m (next_reward \u001b[38;5;241m+\u001b[39m \u001b[38;5;28mself\u001b[39m\u001b[38;5;241m.\u001b[39mgamma \u001b[38;5;241m*\u001b[39m \u001b[38;5;28;43mself\u001b[39;49m\u001b[38;5;241;43m.\u001b[39;49m\u001b[43mrun_episode\u001b[49m\u001b[43m(\u001b[49m\u001b[43mnext_state\u001b[49m\u001b[43m)\u001b[49m)\n\u001b[1;32m     68\u001b[0m \u001b[38;5;66;03m#print(policy.q_pi[state_index], state)\u001b[39;00m\n\u001b[1;32m     69\u001b[0m policy\u001b[38;5;241m.\u001b[39mv_pi[state_index] \u001b[38;5;241m=\u001b[39m policy\u001b[38;5;241m.\u001b[39mq_pi_prob[state_index][action_index] \u001b[38;5;241m*\u001b[39m G_t\n",
      "Cell \u001b[0;32mIn[4], line 49\u001b[0m, in \u001b[0;36mAgent.run_episode\u001b[0;34m(self, state)\u001b[0m\n\u001b[1;32m     47\u001b[0m     action_index \u001b[38;5;241m=\u001b[39m np\u001b[38;5;241m.\u001b[39margmax(policy\u001b[38;5;241m.\u001b[39mq_pi_prob[state_index])\n\u001b[1;32m     48\u001b[0m \u001b[38;5;28;01melse\u001b[39;00m:\n\u001b[0;32m---> 49\u001b[0m     policy_index \u001b[38;5;241m=\u001b[39m \u001b[43msample\u001b[49m\u001b[43m(\u001b[49m\u001b[43mstate_values\u001b[49m\u001b[43m)\u001b[49m\n\u001b[1;32m     50\u001b[0m     policy \u001b[38;5;241m=\u001b[39m \u001b[38;5;28mself\u001b[39m\u001b[38;5;241m.\u001b[39mPOLICIES[policy_index]\n\u001b[1;32m     51\u001b[0m     action_index \u001b[38;5;241m=\u001b[39m sample(policy\u001b[38;5;241m.\u001b[39mq_pi_prob[state_index])\n",
      "Cell \u001b[0;32mIn[2], line 3\u001b[0m, in \u001b[0;36msample\u001b[0;34m(dist)\u001b[0m\n\u001b[1;32m      1\u001b[0m \u001b[38;5;28;01mdef\u001b[39;00m \u001b[38;5;21msample\u001b[39m(dist):\n\u001b[1;32m      2\u001b[0m     wheel \u001b[38;5;241m=\u001b[39m np\u001b[38;5;241m.\u001b[39mcumsum(dist)\n\u001b[0;32m----> 3\u001b[0m     \u001b[38;5;28;01mreturn\u001b[39;00m \u001b[43mnp\u001b[49m\u001b[38;5;241;43m.\u001b[39;49m\u001b[43margwhere\u001b[49m\u001b[43m(\u001b[49m\u001b[43mnp\u001b[49m\u001b[38;5;241;43m.\u001b[39;49m\u001b[43mrandom\u001b[49m\u001b[38;5;241;43m.\u001b[39;49m\u001b[43mrandom\u001b[49m\u001b[43m(\u001b[49m\u001b[43m)\u001b[49m\u001b[43m \u001b[49m\u001b[38;5;241;43m<\u001b[39;49m\u001b[43m \u001b[49m\u001b[43mwheel\u001b[49m\u001b[43m)\u001b[49m[\u001b[38;5;241m0\u001b[39m][\u001b[38;5;241m0\u001b[39m]\n",
      "File \u001b[0;32m<__array_function__ internals>:200\u001b[0m, in \u001b[0;36margwhere\u001b[0;34m(*args, **kwargs)\u001b[0m\n",
      "File \u001b[0;32m~/miniconda3/envs/torch/lib/python3.8/site-packages/numpy/core/numeric.py:625\u001b[0m, in \u001b[0;36margwhere\u001b[0;34m(a)\u001b[0m\n\u001b[1;32m    623\u001b[0m     \u001b[38;5;66;03m# then remove the added dimension\u001b[39;00m\n\u001b[1;32m    624\u001b[0m     \u001b[38;5;28;01mreturn\u001b[39;00m argwhere(a)[:,:\u001b[38;5;241m0\u001b[39m]\n\u001b[0;32m--> 625\u001b[0m \u001b[38;5;28;01mreturn\u001b[39;00m transpose(\u001b[43mnonzero\u001b[49m\u001b[43m(\u001b[49m\u001b[43ma\u001b[49m\u001b[43m)\u001b[49m)\n",
      "File \u001b[0;32m<__array_function__ internals>:200\u001b[0m, in \u001b[0;36mnonzero\u001b[0;34m(*args, **kwargs)\u001b[0m\n",
      "File \u001b[0;32m~/miniconda3/envs/torch/lib/python3.8/site-packages/numpy/core/fromnumeric.py:1984\u001b[0m, in \u001b[0;36mnonzero\u001b[0;34m(a)\u001b[0m\n\u001b[1;32m   1892\u001b[0m \u001b[38;5;129m@array_function_dispatch\u001b[39m(_nonzero_dispatcher)\n\u001b[1;32m   1893\u001b[0m \u001b[38;5;28;01mdef\u001b[39;00m \u001b[38;5;21mnonzero\u001b[39m(a):\n\u001b[1;32m   1894\u001b[0m \u001b[38;5;250m    \u001b[39m\u001b[38;5;124;03m\"\"\"\u001b[39;00m\n\u001b[1;32m   1895\u001b[0m \u001b[38;5;124;03m    Return the indices of the elements that are non-zero.\u001b[39;00m\n\u001b[1;32m   1896\u001b[0m \n\u001b[0;32m   (...)\u001b[0m\n\u001b[1;32m   1982\u001b[0m \n\u001b[1;32m   1983\u001b[0m \u001b[38;5;124;03m    \"\"\"\u001b[39;00m\n\u001b[0;32m-> 1984\u001b[0m     \u001b[38;5;28;01mreturn\u001b[39;00m \u001b[43m_wrapfunc\u001b[49m\u001b[43m(\u001b[49m\u001b[43ma\u001b[49m\u001b[43m,\u001b[49m\u001b[43m \u001b[49m\u001b[38;5;124;43m'\u001b[39;49m\u001b[38;5;124;43mnonzero\u001b[39;49m\u001b[38;5;124;43m'\u001b[39;49m\u001b[43m)\u001b[49m\n",
      "\u001b[0;31mRecursionError\u001b[0m: maximum recursion depth exceeded"
     ]
    }
   ],
   "source": [
    "for _ in tqdm(range(10000000)):\n",
    "    #print(\"_______EPISODE________\")\n",
    "    run_reward = dummy_agent.run_episode(temp_env.START)\n",
    "    dummy_agent.POLICIES[0].update_probs()\n",
    "    dummy_agent.POLICIES[1].update_probs()\n",
    "    if dummy_agent.exploitation_threshold < 0.9:\n",
    "        dummy_agent.exploitation_threshold += 0.00001\n",
    "    # print(\"run-reward : \", run_reward)\n",
    "\n"
   ]
  },
  {
   "cell_type": "code",
   "execution_count": null,
   "metadata": {},
   "outputs": [],
   "source": [
    "dummy_agent.infer(temp_env.START)"
   ]
  },
  {
   "cell_type": "code",
   "execution_count": 7,
   "metadata": {},
   "outputs": [
    {
     "data": {
      "text/plain": [
       "<matplotlib.image.AxesImage at 0x11c471d60>"
      ]
     },
     "execution_count": 7,
     "metadata": {},
     "output_type": "execute_result"
    },
    {
     "data": {
      "image/png": "[encoded data removed]",
      "text/plain": [
       "<Figure size 640x480 with 1 Axes>"
      ]
     },
     "metadata": {},
     "output_type": "display_data"
    }
   ],
   "source": [
    "plt.imshow(dummy_agent.POLICIES[0].v_pi.reshape((10,10)), cmap = \"gray\")"
   ]
  },
  {
   "cell_type": "code",
   "execution_count": null,
   "metadata": {},
   "outputs": [],
   "source": [
    "plt.imshow(dummy_agent.POLICIES[1].v_pi.reshape((10,10)), cmap = \"gray\")"
   ]
  },
  {
   "cell_type": "code",
   "execution_count": null,
   "metadata": {},
   "outputs": [],
   "source": [
    "dummy_agent.POLICIES[1].q_pi_prob"
   ]
  },
  {
   "cell_type": "code",
   "execution_count": null,
   "metadata": {},
   "outputs": [],
   "source": [
    "dist = np.array([0.5, 0.2, 0.2, 0.1])"
   ]
  },
  {
   "cell_type": "code",
   "execution_count": null,
   "metadata": {},
   "outputs": [],
   "source": [
    "samples = [sample(dist) for i in range(1000)]"
   ]
  },
  {
   "cell_type": "code",
   "execution_count": null,
   "metadata": {},
   "outputs": [],
   "source": [
    "np.unique(samples, return_counts=True)"
   ]
  },
  {
   "cell_type": "code",
   "execution_count": null,
   "metadata": {},
   "outputs": [],
   "source": [
    "class Dumy:\n",
    "    def __init__(self):\n",
    "        self.x = 10\n",
    "\n",
    "class Big:\n",
    "\n",
    "    def __init__(self):\n",
    "        self.temp = [Dumy(), Dumy()]\n",
    "\n",
    "    def boom(self):\n",
    "        self.temp[0].x = 234\n",
    "\n",
    "        doom = self.temp[1]\n",
    "\n",
    "        doom.x = 13243"
   ]
  },
  {
   "cell_type": "code",
   "execution_count": null,
   "metadata": {},
   "outputs": [],
   "source": [
    "obj = Big()"
   ]
  },
  {
   "cell_type": "code",
   "execution_count": null,
   "metadata": {},
   "outputs": [],
   "source": [
    "obj.temp[0].x, obj.temp[1].x"
   ]
  },
  {
   "cell_type": "code",
   "execution_count": null,
   "metadata": {},
   "outputs": [],
   "source": [
    "obj.boom()"
   ]
  },
  {
   "cell_type": "code",
   "execution_count": null,
   "metadata": {},
   "outputs": [],
   "source": []
  }
 ],
 "metadata": {
  "kernelspec": {
   "display_name": "torch",
   "language": "python",
   "name": "python3"
  },
  "language_info": {
   "codemirror_mode": {
    "name": "ipython",
    "version": 3
   },
   "file_extension": ".py",
   "mimetype": "text/x-python",
   "name": "python",
   "nbconvert_exporter": "python",
   "pygments_lexer": "ipython3",
   "version": "3.8.18"
  }
 },
 "nbformat": 4,
 "nbformat_minor": 2
}
