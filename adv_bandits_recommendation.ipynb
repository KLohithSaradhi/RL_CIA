{
 "cells": [
  {
   "cell_type": "code",
   "execution_count": 33,
   "metadata": {},
   "outputs": [],
   "source": [
    "import numpy as np\n",
    "\n",
    "NUM_ACTIONS = 3\n",
    "ROUNDS = 100\n",
    "\n",
    "def sample(dist):\n",
    "\n",
    "    wheel = np.cumsum(dist)\n",
    "\n",
    "    return np.argwhere(np.random.random() < wheel)[0][0]\n"
   ]
  },
  {
   "cell_type": "code",
   "execution_count": 34,
   "metadata": {},
   "outputs": [],
   "source": [
    "class User:\n",
    "\n",
    "    def __init__(self, num_actions = NUM_ACTIONS, probs = [0.5, 0.3, 0.2], rounds = ROUNDS):\n",
    "        self.num_actions = num_actions\n",
    "        self.rounds = rounds\n",
    "        self.probs = probs\n",
    "\n",
    "        self.rewards = []\n",
    "\n",
    "        for r in range(0,self.rounds,15):\n",
    "            choice = sample(probs)\n",
    "            reward_vec = [1 if i == choice else 0 for i in range(self.num_actions)]\n",
    "            self.rewards += 15 * [reward_vec]\n",
    "        else:\n",
    "            reward_vec = [1 if i == choice else 0 for i in range(self.num_actions)]\n",
    "            self.rewards += [(self.rounds - (r-15)) * reward_vec]\n",
    "\n",
    "    def get_reward(self, round, choice):\n",
    "        return self.rewards[round][choice]\n",
    "\n"
   ]
  },
  {
   "cell_type": "code",
   "execution_count": 35,
   "metadata": {},
   "outputs": [],
   "source": [
    "ad = User()"
   ]
  },
  {
   "cell_type": "markdown",
   "metadata": {},
   "source": [
    "### Multiplicative reward updates"
   ]
  },
  {
   "cell_type": "code",
   "execution_count": 36,
   "metadata": {},
   "outputs": [
    {
     "data": {
      "text/plain": [
       "(23.1, 14.700000000000001)"
      ]
     },
     "execution_count": 36,
     "metadata": {},
     "output_type": "execute_result"
    }
   ],
   "source": [
    "seq_of_rewards_for_action1 = [2.1, 2.2, 2.3, 2.5, 2.6, 2.7, 2.8, 2.9, 3.0]\n",
    "seq_of_rewards_for_action2 = [2.1, 2.0, 1.9, 1.7, 1.6, 1.5, 1.4, 1.3, 1.2]\n",
    "\n",
    "sum(seq_of_rewards_for_action1), sum(seq_of_rewards_for_action2)"
   ]
  },
  {
   "cell_type": "code",
   "execution_count": 37,
   "metadata": {},
   "outputs": [
    {
     "data": {
      "text/plain": [
       "(4542.806268000001, 71.1075456)"
      ]
     },
     "execution_count": 37,
     "metadata": {},
     "output_type": "execute_result"
    }
   ],
   "source": [
    "np.cumprod(seq_of_rewards_for_action1)[-1], np.cumprod(seq_of_rewards_for_action2)[-1]"
   ]
  },
  {
   "cell_type": "code",
   "execution_count": 38,
   "metadata": {},
   "outputs": [],
   "source": [
    "class Learner:\n",
    "    def __init__(self, adversary, num_actions=NUM_ACTIONS, rounds=ROUNDS):\n",
    "        self.num_actions = NUM_ACTIONS\n",
    "        self.rounds = ROUNDS\n",
    "\n",
    "        self.adversary = adversary\n",
    "\n",
    "        self.S_ti = np.zeros(self.num_actions)\n",
    "\n",
    "        self.HISTORY = {\"corrects\" : [0]}\n",
    "\n",
    "    def learn(self, e=0.2):\n",
    "\n",
    "        correct = 0\n",
    "\n",
    "        for r in range(self.rounds):\n",
    "\n",
    "            P_ti = np.exp(e * self.S_ti) / np.sum(np.exp(e * self.S_ti))\n",
    "\n",
    "            print(P_ti)\n",
    "            choice = sample(P_ti)\n",
    "\n",
    "\n",
    "\n",
    "            reward = self.adversary.get_reward(r, choice)\n",
    "\n",
    "            if reward == 1:\n",
    "                correct += 1 \n",
    "\n",
    "            self.HISTORY[\"corrects\"] += [correct]\n",
    "\n",
    "            self.S_ti[choice] += reward / P_ti[choice]\n"
   ]
  },
  {
   "cell_type": "code",
   "execution_count": 39,
   "metadata": {},
   "outputs": [
    {
     "name": "stdout",
     "output_type": "stream",
     "text": [
      "[0.33333333 0.33333333 0.33333333]\n",
      "[0.47673003 0.26163499 0.26163499]\n",
      "[0.47673003 0.26163499 0.26163499]\n",
      "[0.47673003 0.26163499 0.26163499]\n",
      "[0.5808777  0.20956115 0.20956115]\n",
      "[0.5808777  0.20956115 0.20956115]\n",
      "[0.5808777  0.20956115 0.20956115]\n",
      "[0.5808777  0.20956115 0.20956115]\n",
      "[0.66165631 0.16917185 0.16917185]\n",
      "[0.66165631 0.16917185 0.16917185]\n",
      "[0.72570825 0.13714587 0.13714587]\n",
      "[0.72570825 0.13714587 0.13714587]\n",
      "[0.77704852 0.11147574 0.11147574]\n",
      "[0.81845766 0.09077117 0.09077117]\n",
      "[0.85198999 0.07400501 0.07400501]\n",
      "[0.85198999 0.07400501 0.07400501]\n",
      "[0.87921734 0.06039133 0.06039133]\n",
      "[0.9013677  0.04931615 0.04931615]\n",
      "[0.9194131  0.04029345 0.04029345]\n",
      "[0.93412982 0.03293509 0.03293509]\n",
      "[0.93412982 0.03293509 0.03293509]\n",
      "[0.94614153 0.02692923 0.02692923]\n",
      "[0.95595156 0.02202422 0.02202422]\n",
      "[0.96396739 0.01801631 0.01801631]\n",
      "[0.97051968 0.01474016 0.01474016]\n",
      "[0.97587731 0.01206134 0.01206134]\n",
      "[0.98025917 0.00987042 0.00987042]\n",
      "[0.98384368 0.00807816 0.00807816]\n",
      "[0.98677639 0.0066118  0.0066118 ]\n",
      "[0.98917615 0.00541193 0.00541193]\n",
      "[0.99114 0.00443 0.00443]\n",
      "[0.99114 0.00443 0.00443]\n",
      "[0.99114 0.00443 0.00443]\n",
      "[0.99114 0.00443 0.00443]\n",
      "[0.99114 0.00443 0.00443]\n",
      "[0.99114 0.00443 0.00443]\n",
      "[0.99114 0.00443 0.00443]\n",
      "[0.99114 0.00443 0.00443]\n",
      "[0.99114 0.00443 0.00443]\n",
      "[0.99114 0.00443 0.00443]\n",
      "[0.99114 0.00443 0.00443]\n",
      "[0.99114 0.00443 0.00443]\n",
      "[0.99114 0.00443 0.00443]\n",
      "[0.99114 0.00443 0.00443]\n",
      "[0.99114 0.00443 0.00443]\n",
      "[0.99114 0.00443 0.00443]\n",
      "[0.99274726 0.00362637 0.00362637]\n",
      "[0.99406277 0.00296862 0.00296862]\n",
      "[0.99513955 0.00243022 0.00243022]\n",
      "[0.99602096 0.00198952 0.00198952]\n",
      "[0.99674249 0.00162876 0.00162876]\n",
      "[0.99733314 0.00133343 0.00133343]\n",
      "[0.99781667 0.00109167 0.00109167]\n",
      "[9.9821251e-01 8.9374489e-04 8.9374489e-04]\n",
      "[9.98536576e-01 7.31711882e-04 7.31711882e-04]\n",
      "[9.98801883e-01 5.99058573e-04 5.99058573e-04]\n",
      "[9.99019087e-01 4.90456656e-04 4.90456656e-04]\n",
      "[9.99196911e-01 4.01544562e-04 4.01544562e-04]\n",
      "[9.99342496e-01 3.28751932e-04 3.28751932e-04]\n",
      "[9.99461688e-01 2.69156000e-04 2.69156000e-04]\n",
      "[9.99559272e-01 2.20364071e-04 2.20364071e-04]\n",
      "[9.99639165e-01 1.80417352e-04 1.80417352e-04]\n",
      "[9.99704576e-01 1.47712236e-04 1.47712236e-04]\n",
      "[9.99758128e-01 1.20935881e-04 1.20935881e-04]\n",
      "[9.99801973e-01 9.90134759e-05 9.90134759e-05]\n",
      "[9.99837870e-01 8.10650769e-05 8.10650769e-05]\n",
      "[9.99867259e-01 6.63702699e-05 6.63702699e-05]\n",
      "[9.99891322e-01 5.43392459e-05 5.43392459e-05]\n",
      "[9.99911022e-01 4.44891212e-05 4.44891212e-05]\n",
      "[9.99927151e-01 3.64245510e-05 3.64245510e-05]\n",
      "[9.99940356e-01 2.98218593e-05 2.98218593e-05]\n",
      "[9.99951168e-01 2.44160461e-05 2.44160461e-05]\n",
      "[9.99960020e-01 1.99901495e-05 1.99901495e-05]\n",
      "[9.99967267e-01 1.63665379e-05 1.63665379e-05]\n",
      "[9.99973200e-01 1.33997797e-05 1.33997797e-05]\n",
      "[9.99978058e-01 1.09708062e-05 1.09708062e-05]\n",
      "[9.99978058e-01 1.09708062e-05 1.09708062e-05]\n",
      "[9.99978058e-01 1.09708062e-05 1.09708062e-05]\n",
      "[9.99978058e-01 1.09708062e-05 1.09708062e-05]\n",
      "[9.99978058e-01 1.09708062e-05 1.09708062e-05]\n",
      "[9.99978058e-01 1.09708062e-05 1.09708062e-05]\n",
      "[9.99978058e-01 1.09708062e-05 1.09708062e-05]\n",
      "[9.99978058e-01 1.09708062e-05 1.09708062e-05]\n",
      "[9.99978058e-01 1.09708062e-05 1.09708062e-05]\n",
      "[9.99978058e-01 1.09708062e-05 1.09708062e-05]\n",
      "[9.99978058e-01 1.09708062e-05 1.09708062e-05]\n",
      "[9.99978058e-01 1.09708062e-05 1.09708062e-05]\n",
      "[9.99978058e-01 1.09708062e-05 1.09708062e-05]\n",
      "[9.99978058e-01 1.09708062e-05 1.09708062e-05]\n",
      "[9.99978058e-01 1.09708062e-05 1.09708062e-05]\n",
      "[9.99978058e-01 1.09708062e-05 1.09708062e-05]\n",
      "[9.99978058e-01 1.09708062e-05 1.09708062e-05]\n",
      "[9.99978058e-01 1.09708062e-05 1.09708062e-05]\n",
      "[9.99978058e-01 1.09708062e-05 1.09708062e-05]\n",
      "[9.99978058e-01 1.09708062e-05 1.09708062e-05]\n",
      "[9.99978058e-01 1.09708062e-05 1.09708062e-05]\n",
      "[9.99978058e-01 1.09708062e-05 1.09708062e-05]\n",
      "[9.99978058e-01 1.09708062e-05 1.09708062e-05]\n",
      "[9.99978058e-01 1.09708062e-05 1.09708062e-05]\n",
      "[9.99978058e-01 1.09708062e-05 1.09708062e-05]\n"
     ]
    }
   ],
   "source": [
    "agent = Learner(ad)\n",
    "agent.learn()"
   ]
  },
  {
   "cell_type": "code",
   "execution_count": 40,
   "metadata": {},
   "outputs": [
    {
     "data": {
      "text/plain": [
       "[<matplotlib.lines.Line2D at 0x117f1e9d0>]"
      ]
     },
     "execution_count": 40,
     "metadata": {},
     "output_type": "execute_result"
    },
    {
     "data": {
      "image/png": "[encoded data removed]",
      "text/plain": [
       "<Figure size 640x480 with 1 Axes>"
      ]
     },
     "metadata": {},
     "output_type": "display_data"
    }
   ],
   "source": [
    "import matplotlib.pyplot as plt\n",
    "\n",
    "\n",
    "plt.plot(agent.HISTORY[\"corrects\"])\n",
    "plt.plot(range(100))"
   ]
  },
  {
   "cell_type": "code",
   "execution_count": null,
   "metadata": {},
   "outputs": [],
   "source": []
  }
 ],
 "metadata": {
  "kernelspec": {
   "display_name": "torch",
   "language": "python",
   "name": "python3"
  },
  "language_info": {
   "codemirror_mode": {
    "name": "ipython",
    "version": 3
   },
   "file_extension": ".py",
   "mimetype": "text/x-python",
   "name": "python",
   "nbconvert_exporter": "python",
   "pygments_lexer": "ipython3",
   "version": "3.8.18"
  }
 },
 "nbformat": 4,
 "nbformat_minor": 2
}
